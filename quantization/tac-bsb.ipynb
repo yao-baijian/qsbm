{
 "cells": [
  {
   "cell_type": "code",
   "execution_count": 1,
   "id": "190c53f2-a36e-4fac-bee9-8759eeae9934",
   "metadata": {},
   "outputs": [],
   "source": [
    "%matplotlib inline"
   ]
  },
  {
   "cell_type": "code",
   "execution_count": 2,
   "id": "f9606892-c97e-44d8-98f0-7c8373e454e4",
   "metadata": {},
   "outputs": [],
   "source": [
    "import torch\n",
    "\n",
    "import math\n",
    "import random\n",
    "import matplotlib.pyplot as plt"
   ]
  },
  {
   "cell_type": "code",
   "execution_count": 3,
   "id": "d2b92c77-8f07-403c-9e18-13debba14afd",
   "metadata": {},
   "outputs": [],
   "source": [
    "# generate a random Ising model\n",
    "N = 20\n",
    "J = torch.randint(0, 2, (N, N)) * 2 - 1.\n",
    "h = torch.randint(0, 2, (N, 1)) * 2 - 1.\n",
    "# symmetrize J\n",
    "J = (J.T + J) / 2\n",
    "J = J.fill_diagonal_(0.)"
   ]
  },
  {
   "cell_type": "code",
   "execution_count": 4,
   "id": "5720ed5a-504d-4b9f-ab41-1b1cdd7f1030",
   "metadata": {},
   "outputs": [],
   "source": [
    "def bSB(J, h, init_x, init_y, init_a, init_b, num_iters, dt):\n",
    "    N = J.shape[0]\n",
    "    x_comp = init_x.clone()\n",
    "    y_comp = init_y.clone()\n",
    "    \n",
    "    # scaling of the matrix.\n",
    "    xi = 0.5 / J.square().sum().add_(h.square().sum()).div_(N).sqrt_()\n",
    "    \n",
    "    # pump rate is linearly increased from 0 to 1.\n",
    "    ps = torch.linspace(0, 1, num_iters)\n",
    "    \n",
    "    energies = []\n",
    "    for i in range(num_iters):\n",
    "        y_comp += ((-1 + ps[i]) * x_comp + xi * (J @ x_comp + h * x_comp.abs().mean())) * dt\n",
    "        x_comp += y_comp * dt\n",
    "\n",
    "        y_comp[x_comp.abs() > 1] = 0.\n",
    "        x_comp.clamp_(-1, 1)\n",
    "        \n",
    "        # compute the energy.\n",
    "        sol = x_comp.sign()\n",
    "\n",
    "        ################Trapping and correction####################\n",
    "        # optimized_sol.\n",
    "        threshold = 0.5\n",
    "        opt_sol = sol.detach().clone()\n",
    "\n",
    "        _threshold = threshold * x_comp.norm() / math.sqrt(N)\n",
    "        swing_nodes_ids = torch.where(x_comp.abs() < _threshold)[0].tolist()\n",
    "\n",
    "        random.shuffle(swing_nodes_ids)\n",
    "\n",
    "        # Classify swing and trapped nodes\n",
    "        opt_sol[swing_nodes_ids] = 0.\n",
    "\n",
    "        # defrustrate swing nodes.\n",
    "        for idx in swing_nodes_ids:\n",
    "            spin = torch.sign(J[idx] @ opt_sol + h[idx] * opt_sol[idx])\n",
    "            opt_sol[idx] = spin\n",
    "\n",
    "        # trap swing nodes.\n",
    "        order = list(range(N))\n",
    "        random.shuffle(order)\n",
    "        for idx in order:\n",
    "            spin = torch.sign(J[idx] @ opt_sol + h[idx] * opt_sol[idx])\n",
    "            # If it is zero, randomly assign one.\n",
    "            if not spin:\n",
    "                spin = random.randint(0, 1) * 2 - 1\n",
    "            opt_sol[idx] = spin\n",
    "        ################Trapping and correction####################\n",
    "\n",
    "        # opt_sol is the solution obtained after the trapping and correction.\n",
    "        e = - 1 / 2 * opt_sol.T @ J @ opt_sol - h.T @ opt_sol\n",
    "\n",
    "        energies.append(e.item())\n",
    "    \n",
    "    return energies\n",
    "\n"
   ]
  },
  {
   "cell_type": "code",
   "execution_count": 5,
   "id": "edfa5611-563f-42ab-9bca-091adcedc3db",
   "metadata": {},
   "outputs": [],
   "source": [
    "# initialization of the Ising machine (SB/bSB)\n",
    "init_x = torch.empty([N, 1]).uniform_(-0.1, 0.1)\n",
    "init_y = torch.empty([N, 1]).uniform_(-0.1, 0.1)\n",
    "\n",
    "# Additional states for the external fields\n",
    "init_a = torch.empty([1, 1]).uniform_(-0.1, 0.1)\n",
    "init_b = torch.empty([1, 1]).uniform_(-0.1, 0.1)\n",
    "\n",
    "# parameters for the Ising machine (SB/bSB)\n",
    "dt = 0.25\n",
    "num_iters = 1000\n",
    "\n",
    "# parameters for SB only.\n",
    "M = 5\n",
    "\n",
    "bsb_energies = bSB(J, h, init_x, init_y, init_a, init_b, num_iters, dt)"
   ]
  },
  {
   "cell_type": "code",
   "execution_count": 6,
   "id": "2a067555-0ba4-443f-9970-76b1bfd37a75",
   "metadata": {},
   "outputs": [
    {
     "data": {
      "text/plain": [
       "[<matplotlib.lines.Line2D at 0x7f4a8232d550>]"
      ]
     },
     "execution_count": 6,
     "metadata": {},
     "output_type": "execute_result"
    },
    {
     "data": {
      "image/png": "[encoded data removed]",
      "text/plain": [
       "<Figure size 640x480 with 1 Axes>"
      ]
     },
     "metadata": {},
     "output_type": "display_data"
    }
   ],
   "source": [
    "plt.plot(bsb_energies)"
   ]
  },
  {
   "cell_type": "code",
   "execution_count": null,
   "id": "91965211-c583-4813-95bc-7aec405b1d58",
   "metadata": {},
   "outputs": [],
   "source": []
  }
 ],
 "metadata": {
  "kernelspec": {
   "display_name": "Python 3",
   "language": "python",
   "name": "python3"
  },
  "language_info": {
   "codemirror_mode": {
    "name": "ipython",
    "version": 3
   },
   "file_extension": ".py",
   "mimetype": "text/x-python",
   "name": "python",
   "nbconvert_exporter": "python",
   "pygments_lexer": "ipython3",
   "version": "3.8.16"
  }
 },
 "nbformat": 4,
 "nbformat_minor": 5
}
